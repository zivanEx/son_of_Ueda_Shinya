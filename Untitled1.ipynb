{
  "nbformat": 4,
  "nbformat_minor": 0,
  "metadata": {
    "colab": {
      "name": "Untitled1.ipynb",
      "provenance": [],
      "collapsed_sections": [],
      "authorship_tag": "ABX9TyO+1ajlDbh2sII/p3rBlsd1",
      "include_colab_link": true
    },
    "kernelspec": {
      "name": "python3",
      "display_name": "Python 3"
    }
  },
  "cells": [
    {
      "cell_type": "markdown",
      "metadata": {
        "id": "view-in-github",
        "colab_type": "text"
      },
      "source": [
        "<a href=\"https://colab.research.google.com/github/zivanEx/son_of_Ueda_Shinya/blob/master/Untitled1.ipynb\" target=\"_parent\"><img src=\"https://colab.research.google.com/assets/colab-badge.svg\" alt=\"Open In Colab\"/></a>"
      ]
    },
    {
      "cell_type": "code",
      "metadata": {
        "colab": {
          "base_uri": "https://localhost:8080/",
          "height": 382
        },
        "id": "jj4Ub9Fff13z",
        "outputId": "bd11bf6a-886a-4e48-9418-80da3d6b5303"
      },
      "source": [
        "from telegram.ext import Updater, CommandHandler, MessageHandler, Filters\r\n",
        "from telegram_bot import TelegramBot\r\n",
        "\r\n",
        "# ユーザの入力をそのまま返す対話システム．\r\n",
        "class EchoSystem:\r\n",
        "    def __init__(self):\r\n",
        "        print(\"echo system get started\")\r\n",
        "\r\n",
        "    def initial_message(self, input):\r\n",
        "        return {'utt': 'こんにちは。対話を始めましょう。', 'end':False}\r\n",
        "\r\n",
        "    def reply(self, input):\r\n",
        "        return {\"utt\": input['utt'], \"end\": False}\r\n",
        "\r\n",
        "if __name__ == '__main__':\r\n",
        "    system = EchoSystem()\r\n",
        "    bot = TelegramBot(system)\r\n",
        "    bot.run()"
      ],
      "execution_count": 2,
      "outputs": [
        {
          "output_type": "error",
          "ename": "ModuleNotFoundError",
          "evalue": "ignored",
          "traceback": [
            "\u001b[0;31m---------------------------------------------------------------------------\u001b[0m",
            "\u001b[0;31mModuleNotFoundError\u001b[0m                       Traceback (most recent call last)",
            "\u001b[0;32m<ipython-input-2-33651a499d18>\u001b[0m in \u001b[0;36m<module>\u001b[0;34m()\u001b[0m\n\u001b[0;32m----> 1\u001b[0;31m \u001b[0;32mfrom\u001b[0m \u001b[0mtelegram\u001b[0m\u001b[0;34m.\u001b[0m\u001b[0mext\u001b[0m \u001b[0;32mimport\u001b[0m \u001b[0mUpdater\u001b[0m\u001b[0;34m,\u001b[0m \u001b[0mCommandHandler\u001b[0m\u001b[0;34m,\u001b[0m \u001b[0mMessageHandler\u001b[0m\u001b[0;34m,\u001b[0m \u001b[0mFilters\u001b[0m\u001b[0;34m\u001b[0m\u001b[0;34m\u001b[0m\u001b[0m\n\u001b[0m\u001b[1;32m      2\u001b[0m \u001b[0;32mfrom\u001b[0m \u001b[0mtelegram_bot\u001b[0m \u001b[0;32mimport\u001b[0m \u001b[0mTelegramBot\u001b[0m\u001b[0;34m\u001b[0m\u001b[0;34m\u001b[0m\u001b[0m\n\u001b[1;32m      3\u001b[0m \u001b[0;34m\u001b[0m\u001b[0m\n\u001b[1;32m      4\u001b[0m \u001b[0;31m# ユーザの入力をそのまま返す対話システム．\u001b[0m\u001b[0;34m\u001b[0m\u001b[0;34m\u001b[0m\u001b[0;34m\u001b[0m\u001b[0m\n\u001b[1;32m      5\u001b[0m \u001b[0;32mclass\u001b[0m \u001b[0mEchoSystem\u001b[0m\u001b[0;34m:\u001b[0m\u001b[0;34m\u001b[0m\u001b[0;34m\u001b[0m\u001b[0m\n",
            "\u001b[0;31mModuleNotFoundError\u001b[0m: No module named 'telegram'",
            "",
            "\u001b[0;31m---------------------------------------------------------------------------\u001b[0;32m\nNOTE: If your import is failing due to a missing package, you can\nmanually install dependencies using either !pip or !apt.\n\nTo view examples of installing some common dependencies, click the\n\"Open Examples\" button below.\n\u001b[0;31m---------------------------------------------------------------------------\u001b[0m\n"
          ]
        }
      ]
    },
    {
      "cell_type": "code",
      "metadata": {
        "colab": {
          "base_uri": "https://localhost:8080/",
          "height": 382
        },
        "id": "uoG4mCsUfslY",
        "outputId": "ca0c864d-f1a4-416d-9f38-80abcef0d149"
      },
      "source": [
        "from telegram.ext import Updater, CommandHandler, MessageHandler, Filters\r\n",
        "\r\n",
        "# アクセストークン（先ほど発行されたアクセストークンに書き換えてください）\r\n",
        "TOKEN = \"1425065824:AAGSyMjbnr_moe0vNkrqpeTRHbiN0uqKqDA\"\r\n",
        "\r\n",
        "class TelegramBot:\r\n",
        "    def __init__(self, system):\r\n",
        "        self.system = system\r\n",
        "\r\n",
        "    def start(self, bot, update):\r\n",
        "        # 辞書型 inputにユーザIDを設定\r\n",
        "        input = {'utt': None, 'sessionId': str(update.message.from_user.id)}\r\n",
        "\r\n",
        "        # システムからの最初の発話をinitial_messageから取得し，送信\r\n",
        "        update.message.reply_text(self.system.initial_message(input)[\"utt\"])\r\n",
        "\r\n",
        "    def message(self, bot, update):\r\n",
        "        # 辞書型 inputにユーザからの発話とユーザIDを設定\r\n",
        "        input = {'utt': update.message.text, 'sessionId': str(update.message.from_user.id)}\r\n",
        "\r\n",
        "        # replyメソッドによりinputから発話を生成\r\n",
        "        system_output = self.system.reply(input)\r\n",
        "\r\n",
        "        # 発話を送信\r\n",
        "        update.message.reply_text(system_output[\"utt\"])\r\n",
        "\r\n",
        "    def run(self):\r\n",
        "        updater = Updater(TOKEN)\r\n",
        "        dp = updater.dispatcher\r\n",
        "        dp.add_handler(CommandHandler(\"start\", self.start))\r\n",
        "        dp.add_handler(MessageHandler(Filters.text, self.message))\r\n",
        "        updater.start_polling()\r\n",
        "        updater.idle()  "
      ],
      "execution_count": 3,
      "outputs": [
        {
          "output_type": "error",
          "ename": "ModuleNotFoundError",
          "evalue": "ignored",
          "traceback": [
            "\u001b[0;31m---------------------------------------------------------------------------\u001b[0m",
            "\u001b[0;31mModuleNotFoundError\u001b[0m                       Traceback (most recent call last)",
            "\u001b[0;32m<ipython-input-3-d1839a55e9dc>\u001b[0m in \u001b[0;36m<module>\u001b[0;34m()\u001b[0m\n\u001b[0;32m----> 1\u001b[0;31m \u001b[0;32mfrom\u001b[0m \u001b[0mtelegram\u001b[0m\u001b[0;34m.\u001b[0m\u001b[0mext\u001b[0m \u001b[0;32mimport\u001b[0m \u001b[0mUpdater\u001b[0m\u001b[0;34m,\u001b[0m \u001b[0mCommandHandler\u001b[0m\u001b[0;34m,\u001b[0m \u001b[0mMessageHandler\u001b[0m\u001b[0;34m,\u001b[0m \u001b[0mFilters\u001b[0m\u001b[0;34m\u001b[0m\u001b[0;34m\u001b[0m\u001b[0m\n\u001b[0m\u001b[1;32m      2\u001b[0m \u001b[0;34m\u001b[0m\u001b[0m\n\u001b[1;32m      3\u001b[0m \u001b[0;31m# アクセストークン（先ほど発行されたアクセストークンに書き換えてください）\u001b[0m\u001b[0;34m\u001b[0m\u001b[0;34m\u001b[0m\u001b[0;34m\u001b[0m\u001b[0m\n\u001b[1;32m      4\u001b[0m \u001b[0mTOKEN\u001b[0m \u001b[0;34m=\u001b[0m \u001b[0;34m\"1425065824:AAGSyMjbnr_moe0vNkrqpeTRHbiN0uqKqDA\"\u001b[0m\u001b[0;34m\u001b[0m\u001b[0;34m\u001b[0m\u001b[0m\n\u001b[1;32m      5\u001b[0m \u001b[0;34m\u001b[0m\u001b[0m\n",
            "\u001b[0;31mModuleNotFoundError\u001b[0m: No module named 'telegram'",
            "",
            "\u001b[0;31m---------------------------------------------------------------------------\u001b[0;32m\nNOTE: If your import is failing due to a missing package, you can\nmanually install dependencies using either !pip or !apt.\n\nTo view examples of installing some common dependencies, click the\n\"Open Examples\" button below.\n\u001b[0;31m---------------------------------------------------------------------------\u001b[0m\n"
          ]
        }
      ]
    },
    {
      "cell_type": "code",
      "metadata": {
        "id": "S_iv8n1canQd"
      },
      "source": [
        "from telegram_bot import TelegramBot\r\n",
        "from elasticsearch import Elasticsearch\r\n",
        "import MeCab\r\n",
        "# コサイン類似度で使うライブラリ\r\n",
        "from sklearn.metrics.pairwise import cosine_similarity\r\n",
        "from sklearn.feature_extraction.text import CountVectorizer\r\n",
        "# レーベンシュタイン距離で使うライブラリ\r\n",
        "import Levenshtein\r\n",
        "# word mover's distanceで使うライブラリ\r\n",
        "from gensim.models import Word2Vec\r\n",
        "tagger = MeCab.Tagger('-Owakati')\r\n",
        "tagger.parse(\"\")\r\n",
        "try:\r\n",
        "    w2v = Word2Vec.load('./word2vec.gensim.model')\r\n",
        "except:\r\n",
        "    pass\r\n",
        "\r\n",
        "# 類似度の評価関数\r\n",
        "# コサイン類似度\r\n",
        "def cosine(a, b):\r\n",
        "    # 2章で発話のベクトル化をした時と同じように，sklearnのvectorizerを使って単語頻度ベクトルを作る\r\n",
        "    a, b = CountVectorizer(token_pattern=u'(?u)\\\\b\\\\w+\\\\b').fit_transform([tagger.parse(a), tagger.parse(b)])\r\n",
        "    # cosine_similarityでコサイン類似度を計算する\r\n",
        "    return cosine_similarity(a, b)[0]\r\n",
        "\r\n",
        "# レーベンシュタイン距離\r\n",
        "def levenshtein(a, b):\r\n",
        "    # Levenshtein距離を計算する，これは距離なので-をつける\r\n",
        "    return -Levenshtein.distance(a, b)\r\n",
        "\r\n",
        "# word mover's distance\r\n",
        "def wmd(a, b):\r\n",
        "    # mecabで単語に区切る\r\n",
        "    a, b = tagger.parse(a).split(), tagger.parse(b).split()\r\n",
        "    # word mover's distanceを計算する\r\n",
        "    return -w2v.wmdistance(a, b)\r\n",
        "\r\n",
        "class EbdmSystem:\r\n",
        "    def __init__(self):\r\n",
        "        print('system get started')\r\n",
        "        self.es = Elasticsearch()\r\n",
        "\r\n",
        "    def initial_message(self, input):\r\n",
        "        print(\"initialized\")\r\n",
        "        return {'utt': 'こんにちは。対話を始めましょう。', 'end':False}\r\n",
        "    \r\n",
        "    def reply(self, input):\r\n",
        "        max_score = -float('inf')\r\n",
        "        result = ''\r\n",
        "\r\n",
        "        for r in self.__reply(input['utt']):\r\n",
        "            score = self.evaluate(input['utt'], r)\r\n",
        "            if score > max_score:\r\n",
        "                max_score = score\r\n",
        "                result = r[1]\r\n",
        "        return {\"utt\": result, \"end\": False}\r\n",
        "\r\n",
        "    def __reply(self, utt):\r\n",
        "        results = self.es.search(index='dialogue_pair',\r\n",
        "                    body={'query':{'match':{'query':utt}}, 'size':100,})\r\n",
        "        return [(result['_source']['query'], result['_source']['response'], result[\"_score\"]) for result in results['hits']['hits']]\r\n",
        "        \r\n",
        "    def evaluate(self, utt, pair):\r\n",
        "        #utt:     ユーザ発話\r\n",
        "        #pair[0]: 用例ベースのtweet\r\n",
        "        #pair[1]: 用例ベースのreply\r\n",
        "        #pair[2]: elasticsearchのスコア\r\n",
        "        #返り値:  評価スコア（大きいほど応答として適切）\r\n",
        "        return pair[2]\r\n",
        "\r\n",
        "if __name__ == '__main__':\r\n",
        "    system = EbdmSystem()\r\n",
        "    bot = TelegramBot(system)\r\n",
        "    bot.run()"
      ],
      "execution_count": null,
      "outputs": []
    }
  ]
}